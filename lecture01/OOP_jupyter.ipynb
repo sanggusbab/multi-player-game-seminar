{
 "cells": [
  {
   "cell_type": "code",
   "execution_count": 6,
   "metadata": {},
   "outputs": [],
   "source": [
    "class Employee:\n",
    "    def __init__(self, name, id):\n",
    "        self.name = name\n",
    "        self.id = id\n",
    "\n",
    "    def print_details(self):\n",
    "        print(f\"Name: {self.name}, ID: {self.id}\")"
   ]
  },
  {
   "cell_type": "code",
   "execution_count": 7,
   "metadata": {},
   "outputs": [],
   "source": [
    "class Manager(Employee):\n",
    "    def __init__(self, name, id, department):\n",
    "        super().__init__(name, id)\n",
    "        self.department = department\n",
    "\n",
    "    def print_details(self):\n",
    "        super().print_details()\n",
    "        print(f\"Department: {self.department}\")"
   ]
  },
  {
   "cell_type": "code",
   "execution_count": 8,
   "metadata": {},
   "outputs": [],
   "source": [
    "class EmployeeTable:\n",
    "    def __init__(self):\n",
    "        self.employees = []\n",
    "\n",
    "    def add_employee(self, employee):\n",
    "        self.employees.append(employee)\n",
    "\n",
    "    def print_table(self):\n",
    "        print(\"Employee Table:\")\n",
    "        for employee in self.employees:\n",
    "            employee.print_details()"
   ]
  },
  {
   "cell_type": "code",
   "execution_count": 9,
   "metadata": {},
   "outputs": [
    {
     "name": "stdout",
     "output_type": "stream",
     "text": [
      "Employee Table:\n",
      "Name: John Doe, ID: 1001\n",
      "Name: Jane Smith, ID: 2001\n",
      "Department: HR\n"
     ]
    }
   ],
   "source": [
    "# Main 코드\n",
    "if __name__ == \"__main__\":\n",
    "    table = EmployeeTable()\n",
    "\n",
    "    emp1 = Employee(\"John Doe\", 1001)\n",
    "    mgr1 = Manager(\"Jane Smith\", 2001, \"HR\")\n",
    "\n",
    "    table.add_employee(emp1)\n",
    "    table.add_employee(mgr1)\n",
    "\n",
    "    table.print_table()"
   ]
  },
  {
   "cell_type": "code",
   "execution_count": null,
   "metadata": {},
   "outputs": [],
   "source": []
  }
 ],
 "metadata": {
  "kernelspec": {
   "display_name": "Python 3",
   "language": "python",
   "name": "python3"
  },
  "language_info": {
   "codemirror_mode": {
    "name": "ipython",
    "version": 3
   },
   "file_extension": ".py",
   "mimetype": "text/x-python",
   "name": "python",
   "nbconvert_exporter": "python",
   "pygments_lexer": "ipython3",
   "version": "3.9.13"
  },
  "orig_nbformat": 4
 },
 "nbformat": 4,
 "nbformat_minor": 2
}
